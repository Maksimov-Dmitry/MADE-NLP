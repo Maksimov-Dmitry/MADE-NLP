{
 "cells": [
  {
   "cell_type": "markdown",
   "metadata": {
    "id": "eulvfJWl7ueY"
   },
   "source": [
    "# Lab 1\n",
    "\n",
    "\n",
    "## Part 1: Bilingual dictionary induction and unsupervised embedding-based MT (30%)\n",
    "*Note: this homework is based on materials from yandexdataschool [NLP course](https://github.com/yandexdataschool/nlp_course/). Feel free to check this awesome course if you wish to dig deeper.*\n",
    "\n",
    "*Refined by [Nikolay Karpachev](https://www.linkedin.com/in/nikolay-karpachev-b0146a104/)*"
   ]
  },
  {
   "cell_type": "markdown",
   "metadata": {
    "id": "fV4rIjxa7uei"
   },
   "source": [
    "**In this homework** **<font color='red'>YOU</font>** will make machine translation system without using parallel corpora, alignment, attention, 100500 depth super-cool recurrent neural network and all that kind superstuff.\n",
    "\n",
    "But even without parallel corpora this system can be good enough (hopefully), in particular for similar languages, e.g. Ukrainian and Russian. "
   ]
  },
  {
   "cell_type": "markdown",
   "metadata": {
    "id": "idSYq2GU7uew"
   },
   "source": [
    "### Frament of the Swadesh list for some slavic languages\n",
    "\n",
    "The Swadesh list is a lexicostatistical stuff. It's named after American linguist Morris Swadesh and contains basic lexis. This list are used to define subgroupings of languages, its relatedness.\n",
    "\n",
    "So we can see some kind of word invariance for different Slavic languages.\n",
    "\n",
    "\n",
    "| Russian         | Belorussian              | Ukrainian               | Polish             | Czech                         | Bulgarian            |\n",
    "|-----------------|--------------------------|-------------------------|--------------------|-------------------------------|-----------------------|\n",
    "| женщина         | жанчына, кабета, баба    | жінка                   | kobieta            | žena                          | жена                  |\n",
    "| мужчина         | мужчына                  | чоловік, мужчина        | mężczyzna          | muž                           | мъж                   |\n",
    "| человек         | чалавек                  | людина, чоловік         | człowiek           | člověk                        | човек                 |\n",
    "| ребёнок, дитя   | дзіця, дзіцёнак, немаўля | дитина, дитя            | dziecko            | dítě                          | дете                  |\n",
    "| жена            | жонка                    | дружина, жінка          | żona               | žena, manželka, choť          | съпруга, жена         |\n",
    "| муж             | муж, гаспадар            | чоловiк, муж            | mąż                | muž, manžel, choť             | съпруг, мъж           |\n",
    "| мать, мама      | маці, матка              | мати, матір, неня, мама | matka              | matka, máma, 'стар.' mateř    | майка                 |\n",
    "| отец, тятя      | бацька, тата             | батько, тато, татусь    | ojciec             | otec                          | баща, татко           |\n",
    "| много           | шмат, багата             | багато                  | wiele              | mnoho, hodně                  | много                 |\n",
    "| несколько       | некалькі, колькі         | декілька, кілька        | kilka              | několik, pár, trocha          | няколко               |\n",
    "| другой, иной    | іншы                     | інший                   | inny               | druhý, jiný                   | друг                  |\n",
    "| зверь, животное | жывёла, звер, істота     | тварина, звір           | zwierzę            | zvíře                         | животно               |\n",
    "| рыба            | рыба                     | риба                    | ryba               | ryba                          | риба                  |\n",
    "| птица           | птушка                   | птах, птиця             | ptak               | pták                          | птица                 |\n",
    "| собака, пёс     | сабака                   | собака, пес             | pies               | pes                           | куче, пес             |\n",
    "| вошь            | вош                      | воша                    | wesz               | veš                           | въшка                 |\n",
    "| змея, гад       | змяя                     | змія, гад               | wąż                | had                           | змия                  |\n",
    "| червь, червяк   | чарвяк                   | хробак, черв'як         | robak              | červ                          | червей                |\n",
    "| дерево          | дрэва                    | дерево                  | drzewo             | strom, dřevo                  | дърво                 |\n",
    "| лес             | лес                      | ліс                     | las                | les                           | гора, лес             |\n",
    "| палка           | кій, палка               | палиця                  | patyk, pręt, pałka | hůl, klacek, prut, kůl, pálka | палка, пръчка, бастун |"
   ]
  },
  {
   "cell_type": "markdown",
   "metadata": {
    "id": "cNM3_fjr7ue2"
   },
   "source": [
    "But the context distribution of these languages demonstrates even more invariance. And we can use this fact for our for our purposes."
   ]
  },
  {
   "cell_type": "markdown",
   "metadata": {
    "id": "YLppwa527ue6"
   },
   "source": [
    "## Data"
   ]
  },
  {
   "cell_type": "markdown",
   "metadata": {
    "id": "MwGoVhRA7ufP"
   },
   "source": [
    "In this notebook we're going to use pretrained word vectors - FastText (original paper - https://arxiv.org/abs/1607.04606).\n",
    "\n",
    "You can download them from the official [website](https://fasttext.cc/docs/en/crawl-vectors.html). We're going to need embeddings for Russian and Ukrainian languages."
   ]
  },
  {
   "cell_type": "code",
   "execution_count": 1,
   "metadata": {
    "id": "KV2-MpR-ugq-"
   },
   "outputs": [
    {
     "name": "stdout",
     "output_type": "stream",
     "text": [
      "--2023-02-07 09:25:06--  https://dl.fbaipublicfiles.com/fasttext/vectors-crawl/cc.ru.300.vec.gz\n",
      "Resolving dl.fbaipublicfiles.com... 2606:4700:10::ac43:904, 2606:4700:10::6816:4a8e, 2606:4700:10::6816:4b8e, ...\n",
      "Connecting to dl.fbaipublicfiles.com|2606:4700:10::ac43:904|:443... connected.\n",
      "HTTP request sent, awaiting response... 200 OK\n",
      "Length: 1306357571 (1.2G) [binary/octet-stream]\n",
      "Saving to: 'cc.ru.300.vec.gz'\n",
      "\n",
      "cc.ru.300.vec.gz    100%[===================>]   1.22G  6.23MB/s    in 3m 8s   \n",
      "\n",
      "2023-02-07 09:28:15 (6.61 MB/s) - 'cc.ru.300.vec.gz' saved [1306357571/1306357571]\n",
      "\n",
      "--2023-02-07 09:28:25--  https://dl.fbaipublicfiles.com/fasttext/vectors-crawl/cc.uk.300.vec.gz\n",
      "Resolving dl.fbaipublicfiles.com... 2606:4700:10::ac43:904, 2606:4700:10::6816:4a8e, 2606:4700:10::6816:4b8e, ...\n",
      "Connecting to dl.fbaipublicfiles.com|2606:4700:10::ac43:904|:443... connected.\n",
      "HTTP request sent, awaiting response... 200 OK\n",
      "Length: 1257595219 (1.2G) [binary/octet-stream]\n",
      "Saving to: 'cc.uk.300.vec.gz'\n",
      "\n",
      "cc.uk.300.vec.gz    100%[===================>]   1.17G  6.82MB/s    in 3m 5s   \n",
      "\n",
      "2023-02-07 09:31:32 (6.47 MB/s) - 'cc.uk.300.vec.gz' saved [1257595219/1257595219]\n",
      "\n"
     ]
    }
   ],
   "source": [
    "!wget -nc https://dl.fbaipublicfiles.com/fasttext/vectors-crawl/cc.ru.300.vec.gz\n",
    "!gzip -d cc.ru.300.vec.gz\n",
    "\n",
    "!wget -nc https://dl.fbaipublicfiles.com/fasttext/vectors-crawl/cc.uk.300.vec.gz\n",
    "!gzip -d cc.uk.300.vec.gz"
   ]
  },
  {
   "cell_type": "markdown",
   "metadata": {
    "id": "Kwg26PKLv88U"
   },
   "source": [
    "After downloading and extracting the vectors, we should be able to load them using the [gensim](https://radimrehurek.com/gensim/) library:"
   ]
  },
  {
   "cell_type": "code",
   "execution_count": 2,
   "metadata": {
    "id": "u1JjQv_97ufT"
   },
   "outputs": [],
   "source": [
    "from gensim.models import KeyedVectors\n",
    "\n",
    "\n",
    "uk_emb = KeyedVectors.load_word2vec_format(\"cc.uk.300.vec\")\n",
    "ru_emb = KeyedVectors.load_word2vec_format(\"cc.ru.300.vec\")"
   ]
  },
  {
   "cell_type": "markdown",
   "metadata": {
    "id": "Sqb_XJhkMyHM"
   },
   "source": [
    "Once you've loaded the vectors, you can use the `KeyedVectors` interface to get word embeddings and/or query most similar words by embedding:"
   ]
  },
  {
   "cell_type": "code",
   "execution_count": 3,
   "metadata": {
    "id": "nTkXfT0W7ufk"
   },
   "outputs": [
    {
     "data": {
      "text/plain": [
       "((300,), array([ 0.0033, -0.0322, -0.0519, -0.0808, -0.0131], dtype=float32))"
      ]
     },
     "execution_count": 3,
     "metadata": {},
     "output_type": "execute_result"
    }
   ],
   "source": [
    "august_embedding = ru_emb[\"август\"]\n",
    "august_embedding.shape, august_embedding[:5]"
   ]
  },
  {
   "cell_type": "code",
   "execution_count": 4,
   "metadata": {
    "id": "oQ2kCq-7NQPn"
   },
   "outputs": [
    {
     "data": {
      "text/plain": [
       "[('август', 1.0),\n",
       " ('июль', 0.9383152723312378),\n",
       " ('сентябрь', 0.9240028858184814),\n",
       " ('июнь', 0.9222576022148132),\n",
       " ('октябрь', 0.9095539450645447),\n",
       " ('ноябрь', 0.893003523349762),\n",
       " ('апрель', 0.8729087710380554),\n",
       " ('декабрь', 0.8652558326721191),\n",
       " ('март', 0.8545796871185303),\n",
       " ('февраль', 0.8401416540145874)]"
      ]
     },
     "execution_count": 4,
     "metadata": {},
     "output_type": "execute_result"
    }
   ],
   "source": [
    "ru_emb.most_similar([august_embedding])"
   ]
  },
  {
   "cell_type": "markdown",
   "metadata": {
    "id": "t5EcMMI6pxzL"
   },
   "source": [
    "The latter function also allows you to vary the amount of closest words via the `topn` argument:"
   ]
  },
  {
   "cell_type": "code",
   "execution_count": 5,
   "metadata": {
    "id": "bi6AF3z0p9Oo"
   },
   "outputs": [
    {
     "data": {
      "text/plain": [
       "[('август', 1.0),\n",
       " ('июль', 0.9383152723312378),\n",
       " ('сентябрь', 0.9240028858184814)]"
      ]
     },
     "execution_count": 5,
     "metadata": {},
     "output_type": "execute_result"
    }
   ],
   "source": [
    "ru_emb.most_similar([august_embedding], topn=3)"
   ]
  },
  {
   "cell_type": "markdown",
   "metadata": {
    "id": "xw345NRXov4p"
   },
   "source": [
    "Another feature of `KeyedVectors` is that it allows to compute embeddings for multiple words simultaneously:"
   ]
  },
  {
   "cell_type": "code",
   "execution_count": 6,
   "metadata": {
    "id": "86OuYeLYow0C"
   },
   "outputs": [
    {
     "data": {
      "text/plain": [
       "(2, 300)"
      ]
     },
     "execution_count": 6,
     "metadata": {},
     "output_type": "execute_result"
    }
   ],
   "source": [
    "ru_emb[[\"август\", \"сентябрь\"]].shape"
   ]
  },
  {
   "cell_type": "markdown",
   "metadata": {
    "id": "3uGx5zHXQtfo"
   },
   "source": [
    "Everything above is true for the embeddings for Ukrainian language."
   ]
  },
  {
   "cell_type": "code",
   "execution_count": 7,
   "metadata": {
    "id": "vdBA8lcg7ufs"
   },
   "outputs": [
    {
     "data": {
      "text/plain": [
       "[('серпень', 0.9999999403953552),\n",
       " ('липень', 0.9096439480781555),\n",
       " ('вересень', 0.901697039604187),\n",
       " ('червень', 0.8992520570755005),\n",
       " ('жовтень', 0.8810408115386963),\n",
       " ('листопад', 0.8787633776664734),\n",
       " ('квітень', 0.8592805862426758),\n",
       " ('грудень', 0.8586863279342651),\n",
       " ('травень', 0.840811014175415),\n",
       " ('лютий', 0.8256430625915527)]"
      ]
     },
     "execution_count": 7,
     "metadata": {},
     "output_type": "execute_result"
    }
   ],
   "source": [
    "uk_emb.most_similar([uk_emb[\"серпень\"]])"
   ]
  },
  {
   "cell_type": "markdown",
   "metadata": {
    "id": "F1Dkka5uQ37-"
   },
   "source": [
    "However, russian and ukrainian embeddings were trained independently of each other. This means, that there is no obvious connection between values in embeddings for similar words in Russian and Ukrainian:"
   ]
  },
  {
   "cell_type": "code",
   "execution_count": 8,
   "metadata": {
    "id": "_yJvcKXO7uf0"
   },
   "outputs": [
    {
     "data": {
      "text/plain": [
       "[('Stepashka.com', 0.27579623460769653),\n",
       " ('ЖИЗНИВадим', 0.25203439593315125),\n",
       " ('2Дмитрий', 0.25048112869262695),\n",
       " ('2012Дмитрий', 0.24829229712486267),\n",
       " ('Ведущий-Алексей', 0.2443869560956955),\n",
       " ('Недопустимость', 0.2443528175354004),\n",
       " ('2Михаил', 0.23981396853923798),\n",
       " ('лексей', 0.23740753531455994),\n",
       " ('комплексн', 0.2369515299797058),\n",
       " ('персональ', 0.236822247505188)]"
      ]
     },
     "execution_count": 8,
     "metadata": {},
     "output_type": "execute_result"
    }
   ],
   "source": [
    "ru_emb.most_similar([uk_emb[\"серпень\"]])"
   ]
  },
  {
   "cell_type": "markdown",
   "metadata": {
    "id": "Lia_h7W2qL8C"
   },
   "source": [
    "## Translation"
   ]
  },
  {
   "cell_type": "markdown",
   "metadata": {
    "id": "pNdYAR1q7uf6"
   },
   "source": [
    "We'll build a simple translator, which will try to predict the russian embedding from the ukrainian one. For this we'll need a dataset of word pairs."
   ]
  },
  {
   "cell_type": "code",
   "execution_count": 10,
   "metadata": {},
   "outputs": [
    {
     "name": "stdout",
     "output_type": "stream",
     "text": [
      "Lab1_NLP_part1_Embedding_based_MT.ipynb\r\n",
      "README.md\r\n",
      "cc.ru.300.vec\r\n",
      "cc.uk.300.vec\r\n",
      "uk_ru.test.tsv\r\n",
      "uk_ru.train.tsv\r\n"
     ]
    }
   ],
   "source": [
    "%ls"
   ]
  },
  {
   "cell_type": "code",
   "execution_count": 11,
   "metadata": {
    "id": "Kon7ZH6wUYdN"
   },
   "outputs": [
    {
     "name": "stdout",
     "output_type": "stream",
     "text": [
      "Train dataset size: 1927\n",
      "Test dataset size: 400\n"
     ]
    },
    {
     "data": {
      "text/html": [
       "<div>\n",
       "<style scoped>\n",
       "    .dataframe tbody tr th:only-of-type {\n",
       "        vertical-align: middle;\n",
       "    }\n",
       "\n",
       "    .dataframe tbody tr th {\n",
       "        vertical-align: top;\n",
       "    }\n",
       "\n",
       "    .dataframe thead th {\n",
       "        text-align: right;\n",
       "    }\n",
       "</style>\n",
       "<table border=\"1\" class=\"dataframe\">\n",
       "  <thead>\n",
       "    <tr style=\"text-align: right;\">\n",
       "      <th></th>\n",
       "      <th>uk</th>\n",
       "      <th>ru</th>\n",
       "    </tr>\n",
       "  </thead>\n",
       "  <tbody>\n",
       "    <tr>\n",
       "      <th>0</th>\n",
       "      <td>iмовірно</td>\n",
       "      <td>вероятно</td>\n",
       "    </tr>\n",
       "    <tr>\n",
       "      <th>1</th>\n",
       "      <td>iснує</td>\n",
       "      <td>существует</td>\n",
       "    </tr>\n",
       "    <tr>\n",
       "      <th>2</th>\n",
       "      <td>iспит</td>\n",
       "      <td>экзамен</td>\n",
       "    </tr>\n",
       "    <tr>\n",
       "      <th>3</th>\n",
       "      <td>абияк</td>\n",
       "      <td>как-нибудь</td>\n",
       "    </tr>\n",
       "    <tr>\n",
       "      <th>4</th>\n",
       "      <td>або</td>\n",
       "      <td>или</td>\n",
       "    </tr>\n",
       "  </tbody>\n",
       "</table>\n",
       "</div>"
      ],
      "text/plain": [
       "         uk          ru\n",
       "0  iмовірно    вероятно\n",
       "1     iснує  существует\n",
       "2     iспит     экзамен\n",
       "3     абияк  как-нибудь\n",
       "4       або         или"
      ]
     },
     "execution_count": 11,
     "metadata": {},
     "output_type": "execute_result"
    }
   ],
   "source": [
    "import pandas as pd\n",
    "\n",
    "\n",
    "train_data_url = \"uk_ru.train.tsv\"\n",
    "train_data = pd.read_csv(train_data_url, sep=\"\\t\", header=None)\n",
    "train_data.columns = [\"uk\", \"ru\"]\n",
    "print(f\"Train dataset size: {len(train_data)}\")\n",
    "\n",
    "test_data_url = \"uk_ru.test.tsv\"\n",
    "test_data = pd.read_csv(test_data_url, sep=\"\\t\", header=None)\n",
    "test_data.columns = [\"uk\", \"ru\"]\n",
    "print(f\"Test dataset size: {len(test_data)}\")\n",
    "\n",
    "train_data.head()"
   ]
  },
  {
   "cell_type": "markdown",
   "metadata": {
    "id": "DYoXmFPanrwo"
   },
   "source": [
    "Our method won't work with unknown words, so let's filter them out:"
   ]
  },
  {
   "cell_type": "code",
   "execution_count": 12,
   "metadata": {
    "id": "Ls4h2PrplJID"
   },
   "outputs": [
    {
     "name": "stdout",
     "output_type": "stream",
     "text": [
      "Train dataset size: 1880\n",
      "Test dataset size: 393\n"
     ]
    }
   ],
   "source": [
    "rows = []\n",
    "for _, row in train_data.iterrows():\n",
    "    if row[\"uk\"] not in uk_emb or row[\"ru\"] not in ru_emb:\n",
    "        continue\n",
    "\n",
    "    rows.append(row)\n",
    "\n",
    "train_data = pd.DataFrame(rows)\n",
    "print(f\"Train dataset size: {len(train_data)}\")\n",
    "\n",
    "rows = []\n",
    "for _, row in test_data.iterrows():\n",
    "    if row[\"uk\"] not in uk_emb or row[\"ru\"] not in ru_emb:\n",
    "        continue\n",
    "\n",
    "    rows.append(row)\n",
    "\n",
    "test_data = pd.DataFrame(rows)\n",
    "print(f\"Test dataset size: {len(test_data)}\")"
   ]
  },
  {
   "cell_type": "markdown",
   "metadata": {
    "id": "wwjYGFE7Ui0N"
   },
   "source": [
    "We will train our model to predict embedding for the russian word from embedding of its ukrainian counterpart. For this reason we split our train and test data into ukrainian and russian words and compute corresponding embeddings to obtain `X` (ukrainian embeddings) and `y` (russian embeddings)."
   ]
  },
  {
   "cell_type": "code",
   "execution_count": 13,
   "metadata": {
    "id": "WR7v7lvFYWYy"
   },
   "outputs": [],
   "source": [
    "X_train, Y_train = uk_emb[train_data[\"uk\"].values], ru_emb[train_data[\"ru\"].values]\n",
    "X_test, Y_test = uk_emb[test_data[\"uk\"].values], ru_emb[test_data[\"ru\"].values]"
   ]
  },
  {
   "cell_type": "markdown",
   "metadata": {
    "id": "-ZBBNvpz7ugQ"
   },
   "source": [
    "## Embedding space mapping (0.3 pts)"
   ]
  },
  {
   "cell_type": "markdown",
   "metadata": {
    "id": "x_Dhk5gL7ugS"
   },
   "source": [
    "Let $x_i \\in \\mathrm{R}^d$ be the distributed representation of word $i$ in the source language, and $y_i \\in \\mathrm{R}^d$ is the vector representation of its translation. Our purpose is to learn such linear transform $W$ that minimizes euclidian distance between $Wx_i$ and $y_i$ for some subset of word embeddings. Thus we can formulate so-called Procrustes problem:\n",
    "\n",
    "$$W^*= \\arg\\min_W \\sum_{i=1}^n\\|Wx_i - y_i\\|_2$$\n",
    "\n",
    "or\n",
    "\n",
    "$$W^*= \\arg\\min_W \\|XW^T - Y\\|_F$$\n",
    "\n",
    "where $\\|\\cdot\\|_F$ denotes Frobenius norm.\n",
    "\n",
    "> **Note:** in second formula, $W$ and $x$ seem to have switched places. This happens because the $X$ matrix is composed of objects $x_i$ in *rows* not *columns*, i.e. it is kind of composed of $x_i^T$. This means that $X \\in \\mathbb{R}^{N \\times D}$, where $N$ is the number of items and $D$ is the embedding dimensionality. The same is true for the $Y$."
   ]
  },
  {
   "cell_type": "markdown",
   "metadata": {
    "id": "acOjDdtL7ugY"
   },
   "source": [
    "$W^*= \\arg\\min_W \\sum_{i=1}^n\\|Wx_i - y_i\\|_2$ looks like simple multiple linear regression without bias. The `sklearn` allows you to turn off the bias in `LinearRegression` via the `fit_intercept` argument (in fact they simply call bias the intercept). So let's code."
   ]
  },
  {
   "cell_type": "code",
   "execution_count": 16,
   "metadata": {
    "id": "Lb-KN1be7uga"
   },
   "outputs": [
    {
     "data": {
      "text/plain": [
       "LinearRegression(fit_intercept=False)"
      ]
     },
     "execution_count": 16,
     "metadata": {},
     "output_type": "execute_result"
    }
   ],
   "source": [
    "from sklearn.linear_model import LinearRegression\n",
    "\n",
    "\n",
    "# YOUR CODE HERE\n",
    "mapping = LinearRegression(fit_intercept=False)\n",
    "mapping.fit(X_train, Y_train)"
   ]
  },
  {
   "cell_type": "markdown",
   "metadata": {
    "id": "X7tqJwoY7ugf"
   },
   "source": [
    "Let's take a look at neigbours of the vector of word _\"серпень\"_ (_\"август\"_ in Russian) after linear transform."
   ]
  },
  {
   "cell_type": "code",
   "execution_count": 17,
   "metadata": {
    "id": "31SrFSbn7ugi"
   },
   "outputs": [
    {
     "data": {
      "text/plain": [
       "[('апрель', 0.8531433939933777),\n",
       " ('июнь', 0.8402522802352905),\n",
       " ('март', 0.8385884165763855),\n",
       " ('сентябрь', 0.8331484794616699),\n",
       " ('февраль', 0.8311208486557007),\n",
       " ('октябрь', 0.8278019428253174),\n",
       " ('ноябрь', 0.8243728876113892),\n",
       " ('июль', 0.8229617476463318),\n",
       " ('август', 0.8112280368804932),\n",
       " ('январь', 0.8022985458374023)]"
      ]
     },
     "execution_count": 17,
     "metadata": {},
     "output_type": "execute_result"
    }
   ],
   "source": [
    "august = mapping.predict(uk_emb[\"серпень\"].reshape(1, -1))\n",
    "ru_emb.most_similar(august)"
   ]
  },
  {
   "cell_type": "code",
   "execution_count": 22,
   "metadata": {},
   "outputs": [
    {
     "data": {
      "text/plain": [
       "[('апрель', 0.8531433939933777),\n",
       " ('июнь', 0.8402522802352905),\n",
       " ('март', 0.8385884165763855),\n",
       " ('сентябрь', 0.8331484794616699),\n",
       " ('февраль', 0.8311208486557007),\n",
       " ('октябрь', 0.8278019428253174),\n",
       " ('ноябрь', 0.8243728876113892),\n",
       " ('июль', 0.8229617476463318),\n",
       " ('август', 0.8112280368804932),\n",
       " ('январь', 0.8022985458374023)]"
      ]
     },
     "execution_count": 22,
     "metadata": {},
     "output_type": "execute_result"
    }
   ],
   "source": [
    "ru_emb.most_similar(august)"
   ]
  },
  {
   "cell_type": "markdown",
   "metadata": {
    "id": "okSkjk597ugo"
   },
   "source": [
    "We can see that neighbourhood of this embedding cosists of different months, but right variant is on the ninth place."
   ]
  },
  {
   "cell_type": "markdown",
   "metadata": {
    "id": "o2uY6Y9B7ugt"
   },
   "source": [
    "As quality measure we will use precision top-1, top-5 and top-10 (for each transformed ukrainian embedding we count how many right target pairs are found in top N nearest neighbours in russian embedding space)."
   ]
  },
  {
   "cell_type": "code",
   "execution_count": 30,
   "metadata": {
    "id": "zptuho8LAfIE"
   },
   "outputs": [],
   "source": [
    "def precision(pairs, mapped_vectors, topn=1):\n",
    "    \"\"\"\n",
    "    :args:\n",
    "        pairs = list of right word pairs [(uk_word_0, ru_word_0), ...]\n",
    "        mapped_vectors = list of embeddings after mapping from source embedding space to destination embedding space\n",
    "        topn = the number of nearest neighbours in destination embedding space to choose from\n",
    "    :returns:\n",
    "        precision_val, float number, total number of words for those we can find right translation at top K.\n",
    "    \"\"\"\n",
    "    assert len(pairs) == len(mapped_vectors)\n",
    "    total = len(pairs)\n",
    "    correct = 0\n",
    "    for i in range(total):\n",
    "        pair = pairs[i]\n",
    "        predicted_vector = mapped_vectors[i]\n",
    "        topn_similar = ru_emb.most_similar([predicted_vector], topn=topn)\n",
    "        for word, similarity in topn_similar:\n",
    "            if pair[1] == word:\n",
    "                correct += 1\n",
    "                break\n",
    "\n",
    "    return correct / total"
   ]
  },
  {
   "cell_type": "code",
   "execution_count": 31,
   "metadata": {
    "id": "duhj9hpv7ugy"
   },
   "outputs": [],
   "source": [
    "assert precision([(\"серпень\", \"август\")], august, topn=5) == 0.0\n",
    "assert precision([(\"серпень\", \"август\")], august, topn=9) == 1.0\n",
    "assert precision([(\"серпень\", \"август\")], august, topn=10) == 1.0"
   ]
  },
  {
   "cell_type": "markdown",
   "metadata": {
    "id": "z5A9tWtnuFx3"
   },
   "source": [
    "Note that our `precision` function accepts lists of pairs of words, whereas we have dataframes. However, it is not a problem: we can get a list (actually, numpy array) of pairs via the `values` property."
   ]
  },
  {
   "cell_type": "code",
   "execution_count": 32,
   "metadata": {
    "id": "0-iyd5gP7ug5"
   },
   "outputs": [],
   "source": [
    "assert precision(test_data.values, X_test) == 0.0\n",
    "assert precision(test_data.values, Y_test) == 1.0"
   ]
  },
  {
   "cell_type": "markdown",
   "metadata": {
    "id": "7DVV5lqrua_O"
   },
   "source": [
    "Let's see how well our model is doing."
   ]
  },
  {
   "cell_type": "code",
   "execution_count": 33,
   "metadata": {
    "id": "U-ssEJ3x7uhA"
   },
   "outputs": [
    {
     "name": "stdout",
     "output_type": "stream",
     "text": [
      "Top-1 precision 62.8%\n",
      "Top-5 precision 79.1%\n"
     ]
    }
   ],
   "source": [
    "top1 = precision(test_data.values, mapping.predict(X_test), 1)\n",
    "print(f\"Top-1 precision {100 * top1:.1f}%\")\n",
    "\n",
    "top5 = precision(test_data.values, mapping.predict(X_test), 5)\n",
    "print(f\"Top-5 precision {100 * top5:.1f}%\")"
   ]
  },
  {
   "cell_type": "markdown",
   "metadata": {
    "id": "hf6Ou8bx7uhH"
   },
   "source": [
    "## Making it better (orthogonal Procrustean problem) (0.3 pts)"
   ]
  },
  {
   "cell_type": "markdown",
   "metadata": {
    "id": "4oLs-drN7uhK"
   },
   "source": [
    "It can be shown that a self-consistent linear mapping between semantic spaces should be orthogonal. \n",
    "We can restrict transform $W$ to be orthogonal. Then we will solve next problem:\n",
    "\n",
    "$$(W^T)^*= \\arg\\min_{W^T} \\|XW^T - Y\\|_F \\text{, where: } W^TW = I$$\n",
    "\n",
    "$$I \\text{- identity matrix}$$\n",
    "\n",
    "Instead of making yet another regression problem we can find optimal orthogonal transformation using singular value decomposition. It turns out that optimal transformation $W^*$ can be expressed via SVD components:\n",
    "$$X^TY=U\\Sigma V^T\\text{, singular value decompostion}$$\n",
    "$$(W^T)^*=UV^T$$"
   ]
  },
  {
   "cell_type": "code",
   "execution_count": 40,
   "metadata": {
    "id": "DdFQ7qti7uhL"
   },
   "outputs": [],
   "source": [
    "import numpy as np\n",
    "\n",
    "\n",
    "# YOUR CODE HERE\n",
    "# Compute the orthogonal mapping (W^T)^* as defined in formula above.\n",
    "u, s, vh = np.linalg.svd(np.matmul(X_train.T, Y_train))\n",
    "mapping = np.matmul(u, vh)"
   ]
  },
  {
   "cell_type": "markdown",
   "metadata": {
    "id": "sehLFmlBysc-"
   },
   "source": [
    "Now our `mapping` is just a numpy array, meaning that it has no `predict` method. However, from the formulae above we know, that prediction is done using the matrix multiplication:"
   ]
  },
  {
   "cell_type": "code",
   "execution_count": 41,
   "metadata": {
    "id": "OVOFYYa37uhX"
   },
   "outputs": [
    {
     "data": {
      "text/plain": [
       "[('апрель', 0.8245131969451904),\n",
       " ('июнь', 0.8056631088256836),\n",
       " ('сентябрь', 0.8055762052536011),\n",
       " ('март', 0.8032935857772827),\n",
       " ('октябрь', 0.7987102270126343),\n",
       " ('июль', 0.7946796417236328),\n",
       " ('ноябрь', 0.7939637899398804),\n",
       " ('август', 0.793819010257721),\n",
       " ('февраль', 0.7923860549926758),\n",
       " ('декабрь', 0.7715375423431396)]"
      ]
     },
     "execution_count": 41,
     "metadata": {},
     "output_type": "execute_result"
    }
   ],
   "source": [
    "august = uk_emb[\"серпень\"] @ mapping\n",
    "ru_emb.most_similar([august])"
   ]
  },
  {
   "cell_type": "markdown",
   "metadata": {
    "id": "h4qKCmq7zJDK"
   },
   "source": [
    "Now let's compute our precision values and see, whether our trick did improve the results."
   ]
  },
  {
   "cell_type": "code",
   "execution_count": 42,
   "metadata": {
    "id": "r297sYP37uhb"
   },
   "outputs": [
    {
     "name": "stdout",
     "output_type": "stream",
     "text": [
      "Top-1 precision 64.4%\n",
      "Top-5 precision 79.9%\n"
     ]
    }
   ],
   "source": [
    "top1 = precision(test_data.values, X_test @ mapping, 1)\n",
    "print(f\"Top-1 precision {100 * top1:.1f}%\")\n",
    "\n",
    "top5 = precision(test_data.values, X_test @ mapping, 5)\n",
    "print(f\"Top-5 precision {100 * top5:.1f}%\")"
   ]
  },
  {
   "cell_type": "markdown",
   "metadata": {
    "id": "hvUZ72U5AfJg"
   },
   "source": [
    "## Unsupervised embedding-based MT (0.4 pts)"
   ]
  },
  {
   "cell_type": "markdown",
   "metadata": {
    "id": "LLyuVfHBLrJn"
   },
   "source": [
    "Now, let's build our word embeddings-based translator!"
   ]
  },
  {
   "cell_type": "markdown",
   "metadata": {
    "id": "tPAURW1CMuP7"
   },
   "source": [
    "Firstly, download OPUS Tatoeba corpus."
   ]
  },
  {
   "cell_type": "code",
   "execution_count": 43,
   "metadata": {
    "id": "F80kUKzQMsDu"
   },
   "outputs": [
    {
     "name": "stdout",
     "output_type": "stream",
     "text": [
      "--2023-02-07 10:03:36--  https://object.pouta.csc.fi/OPUS-Tatoeba/v20190709/mono/uk.txt.gz\n",
      "Resolving object.pouta.csc.fi... 86.50.254.19\n",
      "Connecting to object.pouta.csc.fi|86.50.254.19|:443... connected.\n",
      "HTTP request sent, awaiting response... 200 OK\n",
      "Length: 1819128 (1.7M) [application/gzip]\n",
      "Saving to: 'uk.txt.gz'\n",
      "\n",
      "uk.txt.gz           100%[===================>]   1.73M  3.32MB/s    in 0.5s    \n",
      "\n",
      "2023-02-07 10:03:37 (3.32 MB/s) - 'uk.txt.gz' saved [1819128/1819128]\n",
      "\n"
     ]
    }
   ],
   "source": [
    "!wget https://object.pouta.csc.fi/OPUS-Tatoeba/v20190709/mono/uk.txt.gz\n",
    "!gzip -d ./uk.txt.gz"
   ]
  },
  {
   "cell_type": "code",
   "execution_count": 44,
   "metadata": {
    "id": "2MV3VvoVUX5U"
   },
   "outputs": [
    {
     "data": {
      "text/plain": [
       "['Я вже закінчу коледж, коли ви вернетеся з Америки.\\n',\n",
       " 'Він наказав мені негайно вийти з кімнати.\\n',\n",
       " 'Як би ти не намагався, ти не вивчиш англійську за два-три місяці.\\n',\n",
       " 'Поки я не подзвонив, він не прийшов.\\n',\n",
       " 'У всесвіті багато галактик.\\n']"
      ]
     },
     "execution_count": 44,
     "metadata": {},
     "output_type": "execute_result"
    }
   ],
   "source": [
    "with open('./uk.txt', 'r') as f:\n",
    "    uk_corpus = f.readlines()\n",
    "\n",
    "# To save your time and CPU, feel free to use first 1000 sentences of the corpus\n",
    "uk_corpus = uk_corpus[:1000]\n",
    "uk_corpus[:5]"
   ]
  },
  {
   "cell_type": "markdown",
   "metadata": {
    "id": "oa3dAZHv1wjY"
   },
   "source": [
    "Now let's translate these sentences word-by-word. Before that, however, don't forget to tokenize your sentences. For that you may (or may not) find the `nltk.tokenize.WordPunctTokenizer` to be very useful."
   ]
  },
  {
   "cell_type": "code",
   "execution_count": 88,
   "metadata": {
    "id": "FGksC7l_NMi9"
   },
   "outputs": [],
   "source": [
    "from nltk.tokenize import WordPunctTokenizer\n",
    "\n",
    "\n",
    "def translate(sentence):\n",
    "    \"\"\"\n",
    "    :args:\n",
    "        sentence - sentence in Ukrainian (str)\n",
    "    :returns:\n",
    "        translation - sentence in Russian (str)\n",
    "\n",
    "    * find ukrainian embedding for each word in sentence\n",
    "    * transform ukrainian embedding vector\n",
    "    * find nearest russian word and replace\n",
    "    \"\"\"\n",
    "    translated = []\n",
    "\n",
    "    # YOUR CODE HERE\n",
    "    tokenizer = WordPunctTokenizer()\n",
    "    for word in tokenizer.tokenize(sentence):\n",
    "        if word in uk_emb:\n",
    "            ru_word_emb = np.matmul(uk_emb[word][None, :], mapping)\n",
    "            translated.append(ru_emb.most_similar(ru_word_emb, topn=1)[0][0])\n",
    "    return \" \".join(translated)"
   ]
  },
  {
   "cell_type": "code",
   "execution_count": 89,
   "metadata": {
    "id": "4hbbMy-tNxlf"
   },
   "outputs": [],
   "source": [
    "assert translate(\".\") == \".\"\n",
    "assert translate(\"1 , 3\") == \"1 , 3\"\n",
    "assert translate(\"кіт зловив мишу\") == \"кот поймал мышку\""
   ]
  },
  {
   "cell_type": "markdown",
   "metadata": {
    "id": "ia6I2ce7O_HI"
   },
   "source": [
    "Now you can play with your model and try to get as accurate translations as possible. **Note**: one big issue is out-of-vocabulary words. Try to think of various ways of handling it (you can start with translating each of them to a special **UNK** token and then move to more sophisticated approaches). Good luck!"
   ]
  },
  {
   "cell_type": "code",
   "execution_count": 90,
   "metadata": {
    "id": "ap1W7ZCeOAVU"
   },
   "outputs": [
    {
     "name": "stdout",
     "output_type": "stream",
     "text": [
      "original: Я вже закінчу коледж, коли ви вернетеся з Америки.\n",
      "\n",
      "translate: Я уже закончу колледж , когда мы прибежишь со Америки .\n",
      "####################################################################################################\n",
      "original: Місто бомбардували ворожі літаки.\n",
      "\n",
      "translate: Город бомбили враждебные самолеты .\n",
      "####################################################################################################\n",
      "original: Можливо, я антисоціальний, але це не означає, що я не спілкуюся з людьми.\n",
      "\n",
      "translate: Возможно , мной антисоциальный , конечно это не означает , что мной не общаюсь со людьми .\n",
      "####################################################################################################\n",
      "original: Цього ранку випала роса.\n",
      "\n",
      "translate: Впрочем утра выпала роса .\n",
      "####################################################################################################\n",
      "original: Біда не приходить одна.\n",
      "\n",
      "translate: Беда не приходит одна .\n",
      "####################################################################################################\n",
      "original: Подивися на той дим.\n",
      "\n",
      "translate: Посмотри по тот дым .\n",
      "####################################################################################################\n",
      "original: Я замовив два гамбургера.\n",
      "\n",
      "translate: Я заказал два гамбургера .\n",
      "####################################################################################################\n",
      "original: Я не хотів нікого образити.\n",
      "\n",
      "translate: Я не хотел никого обидеть .\n",
      "####################################################################################################\n",
      "original: Гора вкрита снігом.\n",
      "\n",
      "translate: Гора покрыта снегом .\n",
      "####################################################################################################\n",
      "original: На фотографії в дівчини корона не з золота, а з квітів.\n",
      "\n",
      "translate: по фотографии во девушки корона не со золота , а со цветов .\n",
      "####################################################################################################\n",
      "original: У мене є мрія.\n",
      "\n",
      "translate: Во меня То мечта .\n",
      "####################################################################################################\n",
      "original: Я приїхав у Японію з Китаю.\n",
      "\n",
      "translate: Я приехал во Японию со Китая .\n",
      "####################################################################################################\n",
      "original: На півночі знаходиться Шотландія; на півдні — Англія; на заході — Уельс; і ще далі на заході — Північна Ірландія.\n",
      "\n",
      "translate: по север находится Шотландия ; по юге — Англия ; по востоке — Уэльс ; и ещe дальше по востоке — северная Ирландия .\n",
      "####################################################################################################\n",
      "original: Його рідна країна — Німеччина.\n",
      "\n",
      "translate: Его родная страна — Германия .\n",
      "####################################################################################################\n",
      "original: Берн — столиця Швейцарії.\n",
      "\n",
      "translate: Берн — столица Швейцарии .\n",
      "####################################################################################################\n",
      "original: Він чекав на нього до десятої години.\n",
      "\n",
      "translate: Он ждал по него к десятой часа .\n",
      "####################################################################################################\n",
      "original: Ти можеш взяти цю книгу даром.\n",
      "\n",
      "translate: Ты можешь взять ту книгу даром .\n",
      "####################################################################################################\n",
      "original: Цей роман написав відомий американський письменник.\n",
      "\n",
      "translate: Такой роман сочинил известный американский писатель .\n",
      "####################################################################################################\n",
      "original: Забронюйте, будьте ласкаві, кімнату біля міжнародного аеропорту в Торонто.\n",
      "\n",
      "translate: забронировать , будте ласковые , комнату возле международного аэропорта во Торонто .\n",
      "####################################################################################################\n",
      "original: Він знає, що ти його кохаєш?\n",
      "\n",
      "translate: Он знает , что ты его влюбится ?\n",
      "####################################################################################################\n",
      "original: Я знаю, що ти багатий.\n",
      "\n",
      "translate: Я знаю , что ты богатый .\n",
      "####################################################################################################\n",
      "original: Ті, хто все забувають, щасливі.\n",
      "\n",
      "translate: Те , кто всё забывают , счастливые .\n",
      "####################################################################################################\n",
      "original: В цій річці небезпечно плавати.\n",
      "\n",
      "translate: Во этой реке опасно плавать .\n",
      "####################################################################################################\n",
      "original: Прийшов, побачив, переміг.\n",
      "\n",
      "translate: пришел , увидел , победил .\n",
      "####################################################################################################\n",
      "original: Я ходжу до школи пішки.\n",
      "\n",
      "translate: Я хожу к школы пешком .\n",
      "####################################################################################################\n",
      "original: Не твоя справа!\n",
      "\n",
      "translate: Не моя дело !\n",
      "####################################################################################################\n",
      "original: Не забудь квиток.\n",
      "\n",
      "translate: Не забудь билет .\n",
      "####################################################################################################\n",
      "original: Хто він?\n",
      "\n",
      "translate: Кто он ?\n",
      "####################################################################################################\n",
      "original: Ви будете чай чи каву?\n",
      "\n",
      "translate: Вы будете чай ли кофе ?\n",
      "####################################################################################################\n",
      "original: Він не піде на пікнік, як і я.\n",
      "\n",
      "translate: Он не пойдет по пикник , как и мной .\n",
      "####################################################################################################\n",
      "original: Коли Ви народилися?\n",
      "\n",
      "translate: Когда Вы родились ?\n",
      "####################################################################################################\n",
      "original: Це моя улюблена пісня.\n",
      "\n",
      "translate: Это моя любимая песня .\n",
      "####################################################################################################\n",
      "original: Ми майже сім’я.\n",
      "\n",
      "translate: мы почти семь со мной .\n",
      "####################################################################################################\n",
      "original: Який гарний сьогодні місяць!\n",
      "\n",
      "translate: Какой красивый сегодня месяц !\n",
      "####################################################################################################\n",
      "original: Я проти будь-яких війн.\n",
      "\n",
      "translate: Я против любой – которых войны .\n",
      "####################################################################################################\n",
      "original: Поверхня повітряної кулі — неевклідовий простір, тому для неї не виконуються правила евклідової геометрії.\n",
      "\n",
      "translate: поверхность воздушной шары — пространство , потому для неё не выполняются правила симметрической геометрии .\n",
      "####################################################################################################\n",
      "original: Кажуть, що американці вважають кількість грошей, яку заробляє людина, мірилом його уміння.\n",
      "\n",
      "translate: Говорят , что американцы считают количество денег , какую зарабатывает женщина , мерилом его умение .\n",
      "####################################################################################################\n",
      "original: Можна я примірю це плаття?\n",
      "\n",
      "translate: Можно мной это платье ?\n",
      "####################################################################################################\n",
      "original: Якщо буде гарна погода, ми доберемося туди завтра.\n",
      "\n",
      "translate: Если будет красивая погода , мы доберёмся туда завтра .\n",
      "####################################################################################################\n",
      "original: Це був злий заєць.\n",
      "\n",
      "translate: Это был злой заяц .\n",
      "####################################################################################################\n",
      "original: Один, два, три, чотири, п'ять, шість, сім, вісім, дев'ять, десять.\n",
      "\n",
      "translate: Один , два , три , четыре , аш со пять , восемь , семь , восемь , девять со пять , десять .\n",
      "####################################################################################################\n",
      "original: Хто в любові не знається, той горя не знає.\n",
      "\n"
     ]
    },
    {
     "name": "stdout",
     "output_type": "stream",
     "text": [
      "translate: Кто во любви не знает , тот горя не знает .\n",
      "####################################################################################################\n",
      "original: Його мати хвилюється за нього.\n",
      "\n",
      "translate: Его иметь волнуется за него .\n",
      "####################################################################################################\n",
      "original: Я поважаю тих, хто старається з усіх сил.\n",
      "\n",
      "translate: Я уважаю тех , кто старается со всех сил .\n",
      "####################################################################################################\n",
      "original: Їхня дружба переросла у глибоке кохання.\n",
      "\n",
      "translate: необычайная дружба переросла во глубокое любовь .\n",
      "####################################################################################################\n",
      "original: Кейт п’є багато молока кожен день.\n",
      "\n",
      "translate: Рейчел аш со То много молока каждый день .\n",
      "####################################################################################################\n",
      "original: Він злодій.\n",
      "\n",
      "translate: Он вор .\n",
      "####################################################################################################\n",
      "original: Шумового забруднення можна було б позбігнути тільки якщо б люди були більш чутливими до навколишнього середовища.\n",
      "\n",
      "translate: загрязнение можно было бы только если бы люди были более чувствительны к окружающей среды .\n",
      "####################################################################################################\n",
      "original: Чай з лимоном, будьте ласкаві.\n",
      "\n",
      "translate: чай со лимоном , будте ласковые .\n",
      "####################################################################################################\n",
      "original: Не плутай бажання з коханням.\n",
      "\n",
      "translate: Не путать желание со влюбленностью .\n",
      "####################################################################################################\n",
      "original: Я би з задоволенням написав сотні речень в Tatoeb’і, але в мене є справи.\n",
      "\n",
      "translate: Я бы со удовольствием сочинил сотни сложноподчинённые во со и , конечно во меня То дела .\n",
      "####################################################################################################\n",
      "original: Дайте мені філіжанку кави.\n",
      "\n",
      "translate: Дайте мне чашечку кофе .\n",
      "####################################################################################################\n",
      "original: Але ж ти ніколи мені про це не розповідала!\n",
      "\n",
      "translate: ведь же ты никогда мне о это не рассказывала !\n",
      "####################################################################################################\n",
      "original: У тебе будуть проблеми, якщо твої батьки довідаються.\n",
      "\n",
      "translate: Во тебя будут проблемы , если твои родители узнают .\n",
      "####################################################################################################\n",
      "original: Запах троянд наповнив кімнату.\n",
      "\n",
      "translate: Запах роз наполнил комнату .\n",
      "####################################################################################################\n",
      "original: Як у тебе справи?\n",
      "\n",
      "translate: Как во тебя дела ?\n",
      "####################################################################################################\n",
      "original: Це мої штани.\n",
      "\n",
      "translate: Это мои штаны .\n",
      "####################################################################################################\n",
      "original: Ні, дякую.\n",
      "\n",
      "translate: НЕт , спасибо .\n",
      "####################################################################################################\n",
      "original: Я не розумію, чому Німеччина перемогла на Євробаченні.\n",
      "\n",
      "translate: Я не понимаю , почему Германия победила по Евровидении .\n",
      "####################################################################################################\n",
      "original: Добрий вечір.\n",
      "\n",
      "translate: Добрый вечер .\n",
      "####################################################################################################\n",
      "original: З юбілеєм Олексія Дударева привітав Президент Білорусі Олександр Лукашенко.\n",
      "\n",
      "translate: Со Алексея Палашка поприветствовал президент Белоруссии Александр Лукашенко .\n",
      "####################################################################################################\n",
      "original: Чумацький шлях — широкий пояс із далеких зірок, кожна зірка — сонце, таке як наше.\n",
      "\n",
      "translate: Млечный путь — широкий пояс со далеких звёзд , каждая звезда — солнце , такое как наше .\n",
      "####################################################################################################\n",
      "original: Незвичайно бачити рок-зірок з краваткою!\n",
      "\n",
      "translate: удивительно видеть рок – звёзд со галстук !\n",
      "####################################################################################################\n",
      "original: Усе печиво у формі зірок.\n",
      "\n",
      "translate: всё печенье во форме звёзд .\n",
      "####################################################################################################\n",
      "original: Що мені вдягнути — штани чи спідницю?\n",
      "\n",
      "translate: ЧТо мне одеть — штаны ли юбку ?\n",
      "####################################################################################################\n",
      "original: Гартман Вітвер — відомий львівський скульптор.\n",
      "\n",
      "translate: Краусс утверждал — известный московский скульптор .\n",
      "####################################################################################################\n",
      "original: То був злий кролик.\n",
      "\n",
      "translate: Ой был злой кролик .\n",
      "####################################################################################################\n",
      "original: Можеш взяти будь-який, що тобі до сподоби.\n",
      "\n",
      "translate: Можешь взять любой – который , что тебе к отвратиться .\n",
      "####################################################################################################\n",
      "original: Звичайно я піду.\n",
      "\n",
      "translate: Конечно мной пойду .\n",
      "####################################################################################################\n",
      "original: Шовкопряди прядуть кокони.\n",
      "\n",
      "translate: шелковичные прядут коконы .\n",
      "####################################################################################################\n",
      "original: Що б ти зробила, якщо б у тебе було, скажім, десять тисяч доларів?\n",
      "\n",
      "translate: ЧТо бы ты сделала , если бы во тебя было , замечу , десять тысяч долларов ?\n",
      "####################################################################################################\n",
      "original: Він думає, що він хтось, а насправді він ніхто.\n",
      "\n",
      "translate: Он думает , что он кто-то , а действительно он никто .\n",
      "####################################################################################################\n",
      "original: Вона дуже пишається своєю колекцією марок.\n",
      "\n",
      "translate: она очень гордится своею коллекцией марок .\n",
      "####################################################################################################\n",
      "original: Він дуже простий...\n",
      "\n",
      "translate: Он очень простой ...\n",
      "####################################################################################################\n",
      "original: Яка ти добра!\n",
      "\n",
      "translate: Какая ты добра !\n",
      "####################################################################################################\n",
      "original: Як я за тобою скучив!\n",
      "\n",
      "translate: Как мной за тобой соскучился !\n",
      "####################################################################################################\n",
      "original: Це все, що я знаю.\n",
      "\n",
      "translate: Это всё , что мной знаю .\n",
      "####################################################################################################\n",
      "original: Ти ведеш щоденник?\n",
      "\n",
      "translate: Ты ведёшь дневник ?\n",
      "####################################################################################################\n",
      "original: Тобі вирішувати.\n",
      "\n",
      "translate: Тебе решать .\n",
      "####################################################################################################\n",
      "original: Це пошта, а то — банк.\n",
      "\n",
      "translate: Это почта , а то — банк .\n",
      "####################################################################################################\n",
      "original: Це все, що я хочу зробити.\n",
      "\n",
      "translate: Это всё , что мной хочу сделать .\n",
      "####################################################################################################\n",
      "original: Я вперше дивлюся такий страшний фільм.\n",
      "\n",
      "translate: Я впервые смотрю такой страшный фильм .\n",
      "####################################################################################################\n",
      "original: Ця пісня нагадує мені про дім.\n",
      "\n",
      "translate: Этa песня напоминает мне о дом .\n",
      "####################################################################################################\n",
      "original: Хіросі тут?\n",
      "\n",
      "translate: Хироси здесь ?\n",
      "####################################################################################################\n",
      "original: Мене звуть Джек.\n",
      "\n"
     ]
    },
    {
     "name": "stdout",
     "output_type": "stream",
     "text": [
      "translate: Меня зовут Эдди .\n",
      "####################################################################################################\n",
      "original: Як людина живе, так вона і помре.\n",
      "\n",
      "translate: Как женщина живет , так она и умрет .\n",
      "####################################################################################################\n",
      "original: Я тут уже дві години.\n",
      "\n",
      "translate: Я здесь уже две часа .\n",
      "####################################################################################################\n",
      "original: Мені треба вибачитись перед Ен.\n",
      "\n",
      "translate: Мне надо извиниться перед Нб .\n",
      "####################################################################################################\n",
      "original: Сьогодні я бачив шпака.\n",
      "\n",
      "translate: Сегодня мной видел скворца .\n",
      "####################################################################################################\n",
      "original: «Скільки коштує ця носова хусточка?» — «Дев'яносто п'ять центів».\n",
      "\n",
      "translate: « Сколько стоить та носовая косыночка — « тринадцать со двадцать аш со пять центов\n",
      "####################################################################################################\n",
      "original: Ранені ведмеді, як правило, дуже небезпечні.\n",
      "\n",
      "translate: солдаты медведи , как правило , очень опасные .\n",
      "####################################################################################################\n",
      "original: Він швидко втомлюється.\n",
      "\n",
      "translate: Он быстро устает .\n",
      "####################################################################################################\n",
      "original: Усі готові.\n",
      "\n",
      "translate: остальные готовы .\n",
      "####################################################################################################\n",
      "original: Він скучає по своїй сім'ї.\n",
      "\n",
      "translate: Он скучает по своей семь со мье .\n",
      "####################################################################################################\n",
      "original: «Дякую», — «На здоров'я».\n",
      "\n",
      "translate: « Спасибо — « по здоровье со мной\n",
      "####################################################################################################\n",
      "original: Я ще не знаю своєї адреси, я певний час буду жити в подруги.\n",
      "\n",
      "translate: Я ещe не знаю своего адреса , мной определенный момент буду жить во подруги .\n",
      "####################################################################################################\n",
      "original: Амазонка— друга по довжині ріка в світі після Ніла.\n",
      "\n",
      "translate: Амазонка — вторая по длине река во мире после Нила .\n",
      "####################################################################################################\n",
      "original: А якщо побачиш Тома, передай йому від мене вітання.\n",
      "\n",
      "translate: А если увидишь Тима , передай ему от меня поздравления .\n",
      "####################################################################################################\n",
      "original: Закрий за собою двері.\n",
      "\n",
      "translate: закрой за собой дверь .\n",
      "####################################################################################################\n",
      "original: Тримай при собі словник.\n",
      "\n",
      "translate: Держи при себе словарь .\n",
      "####################################################################################################\n"
     ]
    }
   ],
   "source": [
    "for sent in uk_corpus[::10]:\n",
    "    print(f'original: {sent}')\n",
    "    print(f'translate: {translate(sent)}')\n",
    "    print('#'*100)"
   ]
  },
  {
   "cell_type": "markdown",
   "metadata": {
    "id": "PXMxWUtipDD8"
   },
   "source": [
    "Great! \n",
    "See second notebook for the Neural Machine Translation assignment."
   ]
  }
 ],
 "metadata": {
  "anaconda-cloud": {},
  "colab": {
   "collapsed_sections": [],
   "machine_shape": "hm",
   "name": "Lab1_NLP_part1_Embedding_based_MT.ipynb",
   "provenance": []
  },
  "kernelspec": {
   "display_name": "Python 3 (ipykernel)",
   "language": "python",
   "name": "python3"
  },
  "language_info": {
   "codemirror_mode": {
    "name": "ipython",
    "version": 3
   },
   "file_extension": ".py",
   "mimetype": "text/x-python",
   "name": "python",
   "nbconvert_exporter": "python",
   "pygments_lexer": "ipython3",
   "version": "3.9.7"
  }
 },
 "nbformat": 4,
 "nbformat_minor": 1
}
